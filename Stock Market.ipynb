{
 "cells": [
  {
   "cell_type": "code",
   "execution_count": 1,
   "id": "f0351272-1c60-4220-8430-441d6b2a7da8",
   "metadata": {},
   "outputs": [],
   "source": [
    "import pandas as pd"
   ]
  },
  {
   "cell_type": "code",
   "execution_count": 7,
   "id": "20da5ae4-5dc4-49d5-90d9-0c3d7a2c9cb2",
   "metadata": {},
   "outputs": [],
   "source": [
    "apple = pd.read_csv(\"AAPL.csv\")\n",
    "amazon = pd.read_csv(\"AMZN.csv\")\n",
    "facebook = pd.read_csv(\"FB.csv\")\n",
    "google = pd.read_csv(\"GOOGL.csv\")\n",
    "microsoft = pd.read_csv(\"MSFT.csv\")\n",
    "netflix = pd.read_csv(\"NFLX.csv\")\n",
    "nvidia = pd.read_csv(\"NVDA.csv\")\n",
    "pepsi = pd.read_csv(\"PEP.csv\")\n",
    "tesla = pd.read_csv(\"TSLA.csv\")\n",
    "twitter = pd.read_csv(\"TWTR.csv\")"
   ]
  },
  {
   "cell_type": "code",
   "execution_count": 9,
   "id": "06f5f3c6-4b04-45f6-a4cd-5c6313b2d522",
   "metadata": {},
   "outputs": [],
   "source": [
    "dataframe = [apple, amazon, facebook, google, microsoft, netflix, nvidia, pepsi, tesla, twitter]"
   ]
  },
  {
   "cell_type": "code",
   "execution_count": 11,
   "id": "dda9bdcf-86fa-4eaa-bbc4-477dc5a684d8",
   "metadata": {},
   "outputs": [],
   "source": [
    "for i in dataframe:\n",
    "    i[\"MA20\"] = i.Close.rolling(20).mean()\n",
    "    i[\"MA50\"] = i.Close.rolling(50).mean()\n",
    "    i[\"MA100\"] = i.Close.rolling(100).mean()"
   ]
  },
  {
   "cell_type": "code",
   "execution_count": 17,
   "id": "5ca1bdd9-5b0c-4073-afbe-7f2795fdfc97",
   "metadata": {},
   "outputs": [],
   "source": [
    "for i in dataframe:\n",
    "    i[\"Previous close\"] = i.Close.shift(1)"
   ]
  },
  {
   "cell_type": "code",
   "execution_count": 21,
   "id": "f7c5387e-7da4-40e7-96f5-d39f45b48090",
   "metadata": {},
   "outputs": [],
   "source": [
    "for i in dataframe:\n",
    "    i[\"Price Change\"] = i[\"Close\"] - i[\"Previous close\"]"
   ]
  },
  {
   "cell_type": "code",
   "execution_count": 31,
   "id": "3d30228d-86d9-4dd1-9522-8f56c0404deb",
   "metadata": {},
   "outputs": [],
   "source": [
    "for i in dataframe:\n",
    "    i[\"% Price Change\"] = i[\"Close\"].pct_change(fill_method=None) * 100"
   ]
  },
  {
   "cell_type": "code",
   "execution_count": 35,
   "id": "7ca71078-a0cc-40b4-b7b3-f385f82d236c",
   "metadata": {},
   "outputs": [],
   "source": [
    "for i in dataframe:\n",
    "    i[\"Previous volume\"] = i.Volume.shift(1)"
   ]
  },
  {
   "cell_type": "code",
   "execution_count": 39,
   "id": "c2df96bd-67c5-481f-b4c1-7e7c9e788124",
   "metadata": {},
   "outputs": [],
   "source": [
    "for i in dataframe:\n",
    "    i[\"Volume Change\"] = i[\"Volume\"] - i[\"Previous volume\"]"
   ]
  },
  {
   "cell_type": "code",
   "execution_count": 43,
   "id": "96f287f7-b327-45b2-af29-cc59f797e7c6",
   "metadata": {},
   "outputs": [],
   "source": [
    "for i in dataframe:\n",
    "    i[\"% Volume Change\"] = i[\"Volume\"].pct_change(fill_method=None) * 100"
   ]
  },
  {
   "cell_type": "code",
   "execution_count": 47,
   "id": "e1e6bf5f-0847-48a6-b10e-d9b4967c465f",
   "metadata": {},
   "outputs": [],
   "source": [
    "apple.to_csv(\"Apple.csv\")\n",
    "amazon.to_csv(\"Amazon.csv\")\n",
    "facebook.to_csv(\"Facebook.csv\")\n",
    "google.to_csv(\"Google.csv\")\n",
    "microsoft.to_csv(\"Microsoft.csv\")\n",
    "netflix.to_csv(\"Netflix.csv\")\n",
    "nvidia.to_csv(\"Nvidia.csv\")\n",
    "pepsi.to_csv(\"Pepsi.csv\")\n",
    "tesla.to_csv(\"Tesla.csv\")\n",
    "twitter.to_csv(\"Twitter.csv\")"
   ]
  },
  {
   "cell_type": "code",
   "execution_count": null,
   "id": "a8d90768-1803-4568-9dbb-7148c68d58f7",
   "metadata": {},
   "outputs": [],
   "source": []
  }
 ],
 "metadata": {
  "kernelspec": {
   "display_name": "Python 3 (ipykernel)",
   "language": "python",
   "name": "python3"
  },
  "language_info": {
   "codemirror_mode": {
    "name": "ipython",
    "version": 3
   },
   "file_extension": ".py",
   "mimetype": "text/x-python",
   "name": "python",
   "nbconvert_exporter": "python",
   "pygments_lexer": "ipython3",
   "version": "3.11.7"
  }
 },
 "nbformat": 4,
 "nbformat_minor": 5
}
